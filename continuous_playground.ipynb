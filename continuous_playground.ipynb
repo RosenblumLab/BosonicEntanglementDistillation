{
 "cells": [
  {
   "cell_type": "code",
   "execution_count": null,
   "metadata": {
    "collapsed": true
   },
   "outputs": [],
   "source": [
    "import itertools\n",
    "\n",
    "import numpy as np\n",
    "from qutip import *\n",
    "# some_file.py\n",
    "# import sys\n",
    "from qudit import *\n",
    "# import scipy\n",
    "import time\n",
    "import IPython.display as disp\n",
    "from tqdm.notebook import tqdm\n",
    "import multiprocess as mp\n",
    "import matplotlib.pyplot as plt\n",
    "\n",
    "\n",
    "# sys.path.insert(1, 'C:\\\\Users\\\\shoha\\\\Documents\\\\GitHub\\\\grimsmo-paper-simulations')\n",
    "\n",
    "# from measurements import *\n",
    "\n",
    "%load_ext autoreload\n",
    "%autoreload 2"
   ]
  },
  {
   "cell_type": "code",
   "execution_count": null,
   "outputs": [],
   "source": [
    "a = 4\n",
    "N = 60\n",
    "d = 4\n",
    "base_state_list = [sum([basis(N, d*i+j) for i in range(int(N/d))]).unit() for j in range(d)]\n",
    "qudit = BosonicQudit(N,d, base_state_list=base_state_list)\n",
    "sigma_dit = qudit.cavity_to_qudit(ket2dm(coherent(N,a)+coherent(N,-a)))\n",
    "sigma_bit = qudit.qudit_to_qubit(sigma_dit)\n",
    "display(sigma_bit)"
   ],
   "metadata": {
    "collapsed": false
   }
  },
  {
   "cell_type": "code",
   "execution_count": null,
   "outputs": [],
   "source": [
    "a = 4\n",
    "N = 30\n",
    "d = 4\n",
    "base_state_list = [sum([basis(N, d*i+j) for i in range(int(N/d))]).unit() for j in range(d)]\n",
    "entQudit = EntangledBosonicQudit(N,d, base_state_list=base_state_list, res=20)\n",
    "sigma_dit = entQudit.cavity_to_entangled_qudits(ket2dm(tensor(coherent(N,a)+coherent(N,-a), coherent(N,a)+coherent(N,-a) )))\n",
    "sigma_dit"
   ],
   "metadata": {
    "collapsed": false
   }
  }
 ],
 "metadata": {
  "kernelspec": {
   "display_name": "Python 3",
   "language": "python",
   "name": "python3"
  },
  "language_info": {
   "codemirror_mode": {
    "name": "ipython",
    "version": 2
   },
   "file_extension": ".py",
   "mimetype": "text/x-python",
   "name": "python",
   "nbconvert_exporter": "python",
   "pygments_lexer": "ipython2",
   "version": "2.7.6"
  }
 },
 "nbformat": 4,
 "nbformat_minor": 0
}
