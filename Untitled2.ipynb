{
 "cells": [
  {
   "cell_type": "code",
   "execution_count": 1,
   "id": "893c1558-9a9b-4904-a814-e1a295e6aa21",
   "metadata": {},
   "outputs": [
    {
     "name": "stdout",
     "output_type": "stream",
     "text": [
      "$env:CUDA_PATH\n"
     ]
    }
   ],
   "source": [
    "echo $env:CUDA_PATH"
   ]
  },
  {
   "cell_type": "code",
   "execution_count": null,
   "id": "0f7a7186-c536-4e55-8f62-6922ef69ad82",
   "metadata": {},
   "outputs": [],
   "source": []
  }
 ],
 "metadata": {
  "kernelspec": {
   "display_name": "qutip5",
   "language": "python",
   "name": "qutip5"
  },
  "language_info": {
   "codemirror_mode": {
    "name": "ipython",
    "version": 3
   },
   "file_extension": ".py",
   "mimetype": "text/x-python",
   "name": "python",
   "nbconvert_exporter": "python",
   "pygments_lexer": "ipython3",
   "version": "3.11.4"
  }
 },
 "nbformat": 4,
 "nbformat_minor": 5
}
