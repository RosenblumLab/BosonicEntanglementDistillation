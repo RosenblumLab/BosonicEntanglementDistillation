{
 "cells": [
  {
   "cell_type": "code",
   "execution_count": 1,
   "id": "e77cc4f7-a81f-47b1-a806-4b3fa459b271",
   "metadata": {},
   "outputs": [
    {
     "name": "stderr",
     "output_type": "stream",
     "text": [
      "C:\\Users\\shohamj\\AppData\\Local\\anaconda3\\envs\\qutip5\\Lib\\site-packages\\qutip\\__init__.py:25: UserWarning: matplotlib not found: Graphics will not work.\n",
      "  warnings.warn(\"matplotlib not found: Graphics will not work.\")\n"
     ]
    }
   ],
   "source": [
    "import qutip as qutip\n",
    "import time"
   ]
  },
  {
   "cell_type": "code",
   "execution_count": 2,
   "id": "672e94b0-699b-426b-958f-a2b4968ee866",
   "metadata": {},
   "outputs": [],
   "source": [
    "import qutip_cupy"
   ]
  },
  {
   "cell_type": "code",
   "execution_count": null,
   "id": "54ec0198-b127-4de6-ab62-d96eca5d7854",
   "metadata": {},
   "outputs": [],
   "source": [
    "a = time.time()\n",
    "N = 1000\n",
    "qobj = qutip.ket2dm(qutip.coherent(N,3).to('cupyd'))\n",
    "U = 2*qutip.num(N).to('cupyd')\n",
    "V = 2*qutip.destroy(N).to('cupyd')\n",
    "b = time.time()\n",
    "print(b-a)"
   ]
  },
  {
   "cell_type": "code",
   "execution_count": null,
   "id": "1dd1298d-9adc-4523-968c-6963e198649d",
   "metadata": {},
   "outputs": [],
   "source": [
    "qobj.data"
   ]
  },
  {
   "cell_type": "code",
   "execution_count": null,
   "id": "b8429498-0686-42cf-8390-658f2c972506",
   "metadata": {},
   "outputs": [],
   "source": [
    "a = time.time()\n",
    "for i in range(1000):\n",
    "    t = V * U * qobj\n",
    "    # print(1)\n",
    "b = time.time()\n",
    "print(b-a)"
   ]
  },
  {
   "cell_type": "code",
   "execution_count": 29,
   "id": "7241a79c-5a93-4da7-99eb-32d0cbdb52b0",
   "metadata": {},
   "outputs": [
    {
     "name": "stdout",
     "output_type": "stream",
     "text": [
      "0.017917394638061523\n"
     ]
    }
   ],
   "source": [
    "# Warm-up phase\n",
    "for _ in range(10):\n",
    "    t = V * U * qobj\n",
    "\n",
    "# Timing measurement\n",
    "a = time.time()\n",
    "for i in range(100):\n",
    "    t = V * U * qobj\n",
    "b = time.time()\n",
    "\n",
    "print(b - a)"
   ]
  },
  {
   "cell_type": "code",
   "execution_count": 22,
   "id": "cf99067d-64f2-41d1-8a13-531c4c8eef33",
   "metadata": {},
   "outputs": [
    {
     "name": "stdout",
     "output_type": "stream",
     "text": [
      "0.942183256149292\n"
     ]
    }
   ],
   "source": [
    "a = time.time()\n",
    "N = 1000\n",
    "qobj = qutip.ket2dm(qutip.coherent(N,3))\n",
    "U = qutip.num(N)\n",
    "V = qutip.destroy(N)\n",
    "b = time.time()\n",
    "print(b-a)"
   ]
  },
  {
   "cell_type": "code",
   "execution_count": 23,
   "id": "31af7491-70ac-4e14-a2db-ed4712a759ca",
   "metadata": {},
   "outputs": [
    {
     "name": "stdout",
     "output_type": "stream",
     "text": [
      "1.0118374824523926\n"
     ]
    }
   ],
   "source": [
    "a = time.time()\n",
    "for i in range(100):\n",
    "    t = V * U * qobj\n",
    "b = time.time()\n",
    "print(b-a)"
   ]
  },
  {
   "cell_type": "code",
   "execution_count": 14,
   "id": "836b3690-1cf2-44d1-a140-d9fbfdab80e7",
   "metadata": {},
   "outputs": [
    {
     "data": {
      "text/plain": [
       "Dense(shape=(1000, 1000), fortran=True)"
      ]
     },
     "execution_count": 14,
     "metadata": {},
     "output_type": "execute_result"
    }
   ],
   "source": [
    "qobj.data"
   ]
  },
  {
   "cell_type": "code",
   "execution_count": 90,
   "id": "93ee322c-c949-4218-925a-511c47a911f9",
   "metadata": {},
   "outputs": [],
   "source": [
    "from functools import partial"
   ]
  },
  {
   "cell_type": "code",
   "execution_count": 91,
   "id": "42d18d67-cee0-427d-b64e-a90b4ecd6f71",
   "metadata": {},
   "outputs": [
    {
     "data": {
      "text/plain": [
       "6"
      ]
     },
     "execution_count": 91,
     "metadata": {},
     "output_type": "execute_result"
    }
   ],
   "source": [
    "def foo(a,b,c=1,d=3):\n",
    "    return a + b + c + d\n",
    "\n",
    "foo(1,1)"
   ]
  },
  {
   "cell_type": "code",
   "execution_count": 92,
   "id": "9027fe2c-da28-48e1-b5cb-4e21e617c0da",
   "metadata": {},
   "outputs": [],
   "source": [
    "qfoo = partial(foo, a=2, b=4, c=2)"
   ]
  },
  {
   "cell_type": "code",
   "execution_count": 93,
   "id": "b3fb4867-4a71-42c5-bef7-d54e0cc74bdd",
   "metadata": {},
   "outputs": [
    {
     "data": {
      "text/plain": [
       "18"
      ]
     },
     "execution_count": 93,
     "metadata": {},
     "output_type": "execute_result"
    }
   ],
   "source": [
    "qfoo(d=10)\n"
   ]
  },
  {
   "cell_type": "code",
   "execution_count": 16,
   "id": "e989f36f-832b-4dda-b784-b6f3f422a61a",
   "metadata": {},
   "outputs": [
    {
     "name": "stdout",
     "output_type": "stream",
     "text": [
      "Time taken with NumPy: 1.8901824951171875\n"
     ]
    }
   ],
   "source": [
    "import numpy as np\n",
    "import time\n",
    "\n",
    "N = 10000\n",
    "A = np.random.rand(N, N)\n",
    "B = np.random.rand(N, N)\n",
    "\n",
    "start_time = time.time()\n",
    "result = np.dot(A, B)\n",
    "end_time = time.time()\n",
    "\n",
    "print(\"Time taken with NumPy:\", end_time - start_time)"
   ]
  },
  {
   "cell_type": "code",
   "execution_count": 15,
   "id": "beafdb49-4d19-4a0c-9f25-8540fff7b729",
   "metadata": {},
   "outputs": [
    {
     "name": "stdout",
     "output_type": "stream",
     "text": [
      "Time taken with CuPy: 0.015619039535522461\n"
     ]
    }
   ],
   "source": [
    "import cupy as cp\n",
    "import time\n",
    "\n",
    "N = 10000\n",
    "A = cp.random.rand(N, N)\n",
    "B = cp.random.rand(N, N)\n",
    "\n",
    "start_time = time.time()\n",
    "result = cp.dot(A, B)\n",
    "end_time = time.time()\n",
    "\n",
    "print(\"Time taken with CuPy:\", end_time - start_time)"
   ]
  },
  {
   "cell_type": "code",
   "execution_count": null,
   "id": "79258abd-fa37-4233-817c-0f03aae3951b",
   "metadata": {},
   "outputs": [],
   "source": []
  }
 ],
 "metadata": {
  "kernelspec": {
   "display_name": "qutip5",
   "language": "python",
   "name": "qutip5"
  },
  "language_info": {
   "codemirror_mode": {
    "name": "ipython",
    "version": 3
   },
   "file_extension": ".py",
   "mimetype": "text/x-python",
   "name": "python",
   "nbconvert_exporter": "python",
   "pygments_lexer": "ipython3",
   "version": "3.11.4"
  }
 },
 "nbformat": 4,
 "nbformat_minor": 5
}
