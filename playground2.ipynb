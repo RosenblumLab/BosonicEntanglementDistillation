{
 "cells": [
  {
   "cell_type": "code",
   "execution_count": 2,
   "metadata": {
    "collapsed": true
   },
   "outputs": [],
   "source": [
    "import itertools\n",
    "\n",
    "import numpy as np\n",
    "from qutip import *\n",
    "# some_file.py\n",
    "from mpl_toolkits.mplot3d import Axes3D\n",
    "\n",
    "from qudit import *\n",
    "# import scipy\n",
    "import time\n",
    "import IPython.display as disp\n",
    "from tqdm.notebook import tqdm\n",
    "import multiprocess as mp\n",
    "import matplotlib.pyplot as plt\n",
    "from discrete_simulation import *\n",
    "\n",
    "%load_ext autoreload\n",
    "%autoreload 2"
   ]
  },
  {
   "cell_type": "code",
   "execution_count": 3,
   "outputs": [
    {
     "name": "stdout",
     "output_type": "stream",
     "text": [
      "2\n",
      "3\n"
     ]
    }
   ],
   "source": [
    "d = 16\n",
    "m_i = 16\n",
    "m_c = 16\n",
    "fidelity_cut = 0\n",
    "gamma_list = np.logspace(-3,-1,4)\n",
    "gamma_ratio = 1\n",
    "\n",
    "#\n",
    "# simulation16 = DiscreteSimulation(d, m_i,m_c )\n",
    "#\n",
    "# with mp.Pool(mp.cpu_count()-1) as pool:\n",
    "#     fid_prob_list = pool.starmap(simulation16.average_fidelity, zip(list(gamma_list),list(gamma_ratio*gamma_list), [fidelity_cut] * len(gamma_list)))\n",
    "# fid_list = [tup[0] for tup in fid_prob_list]\n",
    "# prob_list = [tup[1] for tup in fid_prob_list]\n",
    "#\n",
    "# print(1)\n",
    "#\n",
    "# m_i = 16\n",
    "# m_c = 8\n",
    "# simulation8 = DiscreteSimulation(d, m_i,m_c)\n",
    "#\n",
    "# with mp.Pool(mp.cpu_count()-1) as pool:\n",
    "#     fid_prob_list = pool.starmap(simulation8.average_fidelity, zip(list(gamma_list),list(gamma_ratio*gamma_list), [fidelity_cut] * len(gamma_list)))\n",
    "# fid_list_168 = [tup[0] for tup in fid_prob_list]\n",
    "# prob_list_168 = [tup[1] for tup in fid_prob_list]\n",
    "\n",
    "print(2)\n",
    "\n",
    "m_i = 16\n",
    "m_c = 4\n",
    "simulation4 = DiscreteSimulation(d, m_i,m_c)\n",
    "\n",
    "with mp.Pool(mp.cpu_count()-1) as pool:\n",
    "    fid_prob_list = pool.starmap(simulation4.average_fidelity, zip(list(gamma_list),list(gamma_ratio*gamma_list), [fidelity_cut] * len(gamma_list)))\n",
    "fid_list_88 = [tup[0] for tup in fid_prob_list]\n",
    "prob_list_88 = [tup[1] for tup in fid_prob_list]\n",
    "\n",
    "print(3)\n",
    "\n",
    "m_i = 16\n",
    "m_c = 4\n",
    "simulation4 = DiscreteSimulation(d, m_i,m_c)\n",
    "\n",
    "with mp.Pool(mp.cpu_count()-1) as pool:\n",
    "    fid_prob_list = pool.starmap(simulation4.average_fidelity_no_communication, zip(list(gamma_list),list(gamma_ratio*gamma_list)))\n",
    "fid_list_164_NC = [tup[0] for tup in fid_prob_list]\n",
    "prob_list_164_NC = [tup[1] for tup in fid_prob_list]"
   ],
   "metadata": {
    "collapsed": false
   }
  },
  {
   "cell_type": "code",
   "execution_count": 1,
   "outputs": [
    {
     "ename": "NameError",
     "evalue": "name 'plt' is not defined",
     "output_type": "error",
     "traceback": [
      "\u001B[1;31m---------------------------------------------------------------------------\u001B[0m",
      "\u001B[1;31mNameError\u001B[0m                                 Traceback (most recent call last)",
      "\u001B[1;32m<ipython-input-1-474fe0e9336e>\u001B[0m in \u001B[0;36m<module>\u001B[1;34m\u001B[0m\n\u001B[1;32m----> 1\u001B[1;33m \u001B[0mplt\u001B[0m\u001B[1;33m.\u001B[0m\u001B[0mfigure\u001B[0m\u001B[1;33m(\u001B[0m\u001B[0mdpi\u001B[0m\u001B[1;33m=\u001B[0m\u001B[1;36m200\u001B[0m\u001B[1;33m)\u001B[0m\u001B[1;33m\u001B[0m\u001B[1;33m\u001B[0m\u001B[0m\n\u001B[0m\u001B[0;32m      2\u001B[0m \u001B[1;33m\u001B[0m\u001B[0m\n\u001B[0;32m      3\u001B[0m \u001B[0mplt\u001B[0m\u001B[1;33m.\u001B[0m\u001B[0mloglog\u001B[0m\u001B[1;33m(\u001B[0m\u001B[0mgamma_list\u001B[0m\u001B[1;33m,\u001B[0m\u001B[1;36m1\u001B[0m\u001B[1;33m-\u001B[0m\u001B[0mnp\u001B[0m\u001B[1;33m.\u001B[0m\u001B[0marray\u001B[0m\u001B[1;33m(\u001B[0m\u001B[0mfid_list\u001B[0m\u001B[1;33m)\u001B[0m\u001B[1;33m,\u001B[0m \u001B[1;34m'b.-'\u001B[0m\u001B[1;33m)\u001B[0m\u001B[1;33m\u001B[0m\u001B[1;33m\u001B[0m\u001B[0m\n\u001B[0;32m      4\u001B[0m \u001B[0mplt\u001B[0m\u001B[1;33m.\u001B[0m\u001B[0mloglog\u001B[0m\u001B[1;33m(\u001B[0m\u001B[0mgamma_list\u001B[0m\u001B[1;33m,\u001B[0m\u001B[1;36m1\u001B[0m\u001B[1;33m-\u001B[0m\u001B[0mnp\u001B[0m\u001B[1;33m.\u001B[0m\u001B[0marray\u001B[0m\u001B[1;33m(\u001B[0m\u001B[0mfid_list_168\u001B[0m\u001B[1;33m)\u001B[0m\u001B[1;33m,\u001B[0m \u001B[1;34m'r.--'\u001B[0m\u001B[1;33m)\u001B[0m\u001B[1;33m\u001B[0m\u001B[1;33m\u001B[0m\u001B[0m\n\u001B[0;32m      5\u001B[0m \u001B[0mplt\u001B[0m\u001B[1;33m.\u001B[0m\u001B[0mloglog\u001B[0m\u001B[1;33m(\u001B[0m\u001B[0mgamma_list\u001B[0m\u001B[1;33m,\u001B[0m\u001B[1;36m1\u001B[0m\u001B[1;33m-\u001B[0m\u001B[0mnp\u001B[0m\u001B[1;33m.\u001B[0m\u001B[0marray\u001B[0m\u001B[1;33m(\u001B[0m\u001B[0mfid_list_88\u001B[0m\u001B[1;33m)\u001B[0m\u001B[1;33m,\u001B[0m \u001B[1;34m'g.--'\u001B[0m\u001B[1;33m)\u001B[0m\u001B[1;33m\u001B[0m\u001B[1;33m\u001B[0m\u001B[0m\n",
      "\u001B[1;31mNameError\u001B[0m: name 'plt' is not defined"
     ]
    }
   ],
   "source": [
    "plt.figure(dpi=200)\n",
    "\n",
    "plt.loglog(gamma_list,1-np.array(fid_list), 'b.-')\n",
    "plt.loglog(gamma_list,1-np.array(fid_list_168), 'r.--')\n",
    "plt.loglog(gamma_list,1-np.array(fid_list_88), 'g.--')\n",
    "# plt.loglog(gamma_list,1-np.array(fid_list_filtered), 'r.-')\n",
    "# plt.loglog(gamma_list,np.array(fail_prob_list), 'g.--')\n",
    "\n",
    "# plt.title(\"Infidelity with trivial protocol and with our protocol. d = 16, m_i = 4, m_c=4\")\n",
    "plt.xlabel(f\"$\\gamma$ for decay and 1/{gamma_ratio} dephasing\")\n",
    "plt.ylabel(\"1-Fidelity\")\n",
    "plt.legend([\"m_c=16\",\"m_c=8\", \"m_c=4\"])\n",
    "plt.title(f\"{d=},{m_i=}, no post-selection\")\n",
    "plt.gca().invert_yaxis()"
   ],
   "metadata": {
    "collapsed": false
   }
  },
  {
   "cell_type": "code",
   "execution_count": 22,
   "outputs": [],
   "source": [
    "a = zip(list(gamma_list),list(gamma_list), [fidelity_cut] * len(gamma_list))"
   ],
   "metadata": {
    "collapsed": false
   }
  },
  {
   "cell_type": "code",
   "execution_count": 26,
   "outputs": [
    {
     "data": {
      "text/plain": "(0.03162277660168379, 0.03162277660168379, 0.999)"
     },
     "execution_count": 26,
     "metadata": {},
     "output_type": "execute_result"
    }
   ],
   "source": [
    "a.__next__()"
   ],
   "metadata": {
    "collapsed": false
   }
  },
  {
   "cell_type": "code",
   "execution_count": 5,
   "outputs": [
    {
     "name": "stdout",
     "output_type": "stream",
     "text": [
      "0.8011951446533203\n",
      "0.30577850341796875\n"
     ]
    },
    {
     "data": {
      "text/plain": "0.4999000166639561"
     },
     "execution_count": 5,
     "metadata": {},
     "output_type": "execute_result"
    }
   ],
   "source": [
    "d = 32\n",
    "qudit4 = EntangledQudit(d,d)\n",
    "m_i = 16\n",
    "m_c = 4\n",
    "A_1, B_1 = 0, 4\n",
    "A_2, B_2 = 1, 1\n",
    "qudit4.fidelity_specific(gamma_loss_A=1e-2,gamma_dephasing_A=1e-2, A_1=A_1,B_1=B_1,A_2=A_2,B_2=B_2,m_i=m_i,m_c=m_c)"
   ],
   "metadata": {
    "collapsed": false
   }
  },
  {
   "cell_type": "code",
   "execution_count": 5,
   "outputs": [
    {
     "data": {
      "text/plain": "6.656897255652439e-13"
     },
     "execution_count": 5,
     "metadata": {},
     "output_type": "execute_result"
    }
   ],
   "source": [
    "1-fid_list[0][0]"
   ],
   "metadata": {
    "collapsed": false
   }
  },
  {
   "cell_type": "code",
   "execution_count": 7,
   "outputs": [
    {
     "data": {
      "text/plain": "[0.9999999999993343, 0, 0, 0]"
     },
     "execution_count": 7,
     "metadata": {},
     "output_type": "execute_result"
    }
   ],
   "source": [
    "fid_list2"
   ],
   "metadata": {
    "collapsed": false
   }
  },
  {
   "cell_type": "code",
   "execution_count": null,
   "outputs": [],
   "source": [
    "\n",
    "\n",
    "# Create some sample data\n",
    "x = np.logspace(0, 2, 100)\n",
    "y = np.logspace(0, 2, 100)\n",
    "x, y = np.meshgrid(x, y)\n",
    "z = x ** 2 + y ** 2\n",
    "\n",
    "# Create a figure\n",
    "fig = plt.figure()\n",
    "ax = fig.add_subplot(111, projection='3d')\n",
    "\n",
    "# Plot the surface using log scale for all three axes\n",
    "ax.plot_surface(np.log10(x), np.log10(y), np.log10(z))\n",
    "\n",
    "# Set log scale for all axes\n",
    "ax.set_xscale('log')\n",
    "ax.set_yscale('log')\n",
    "ax.set_zscale('log')\n",
    "\n",
    "# Set axis labels\n",
    "ax.set_xlabel('Log X')\n",
    "ax.set_ylabel('Log Y')\n",
    "ax.set_zlabel('Log Z')\n",
    "\n",
    "# Show the plot\n",
    "plt.show()"
   ],
   "metadata": {
    "collapsed": false
   }
  },
  {
   "cell_type": "code",
   "execution_count": 29,
   "outputs": [
    {
     "data": {
      "text/plain": "(0.9986425150010688, 0.09425920207965674)"
     },
     "execution_count": 29,
     "metadata": {},
     "output_type": "execute_result"
    }
   ],
   "source": [
    "d = 16\n",
    "m_i = 16\n",
    "m_c = 8\n",
    "fidelity_cut = 1\n",
    "\n",
    "simulation16 = DiscreteSimulation(d, m_i,m_c )\n",
    "\n",
    "simulation16.average_fidelity(gamma_loss=1e-2,gamma_dephasing=1e-2, fidelity_cut=0.5)"
   ],
   "metadata": {
    "collapsed": false
   }
  },
  {
   "cell_type": "code",
   "execution_count": null,
   "outputs": [],
   "source": [],
   "metadata": {
    "collapsed": false
   }
  }
 ],
 "metadata": {
  "kernelspec": {
   "display_name": "Python 3",
   "language": "python",
   "name": "python3"
  },
  "language_info": {
   "codemirror_mode": {
    "name": "ipython",
    "version": 2
   },
   "file_extension": ".py",
   "mimetype": "text/x-python",
   "name": "python",
   "nbconvert_exporter": "python",
   "pygments_lexer": "ipython2",
   "version": "2.7.6"
  }
 },
 "nbformat": 4,
 "nbformat_minor": 0
}
