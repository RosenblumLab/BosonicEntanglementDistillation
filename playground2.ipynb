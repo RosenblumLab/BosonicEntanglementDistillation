{
 "cells": [
  {
   "cell_type": "code",
   "execution_count": 1,
   "metadata": {
    "collapsed": true
   },
   "outputs": [],
   "source": [
    "import itertools\n",
    "\n",
    "import numpy as np\n",
    "from qutip import *\n",
    "# some_file.py\n",
    "from mpl_toolkits.mplot3d import Axes3D\n",
    "\n",
    "from qudit import *\n",
    "# import scipy\n",
    "import time\n",
    "import IPython.display as disp\n",
    "from tqdm.notebook import tqdm\n",
    "import multiprocess as mp\n",
    "import matplotlib.pyplot as plt\n",
    "from discrete_simulation import *\n",
    "\n",
    "%load_ext autoreload\n",
    "%autoreload 2"
   ]
  },
  {
   "cell_type": "code",
   "execution_count": 16,
   "outputs": [],
   "source": [
    "d = 16\n",
    "m_i = 16\n",
    "m_c = 16\n",
    "fidelity_cut = 0\n",
    "gamma_list = np.logspace(-3,-1,20)\n",
    "\n",
    "\n",
    "simulation16 = DiscreteSimulation(d, m_i,m_c )\n",
    "\n",
    "with mp.Pool(mp.cpu_count()) as pool:\n",
    "    fid_prob_list = pool.starmap(simulation16.average_fidelity, zip(list(gamma_list),list(10*gamma_list), [fidelity_cut] * len(gamma_list)))\n",
    "fid_list = [tup[0] for tup in fid_prob_list]\n",
    "prob_list = [tup[1] for tup in fid_prob_list]\n",
    "\n",
    "print(1)\n",
    "\n",
    "m_i = 16\n",
    "m_c = 8\n",
    "simulation8 = DiscreteSimulation(d, m_i,m_c)\n",
    "\n",
    "with mp.Pool(mp.cpu_count()) as pool:\n",
    "    fid_prob_list = pool.starmap(simulation8.average_fidelity, zip(list(gamma_list),list(10*gamma_list), [fidelity_cut] * len(gamma_list)))\n",
    "fid_list_168 = [tup[0] for tup in fid_prob_list]\n",
    "prob_list_168 = [tup[1] for tup in fid_prob_list]\n",
    "\n",
    "print(2)\n",
    "\n",
    "m_i = 8\n",
    "m_c = 8\n",
    "simulation88 = DiscreteSimulation(d, m_i,m_c)\n",
    "\n",
    "with mp.Pool(mp.cpu_count()) as pool:\n",
    "    fid_prob_list = pool.starmap(simulation8.average_fidelity, zip(list(gamma_list),list(10*gamma_list), [fidelity_cut] * len(gamma_list)))\n",
    "fid_list_88 = [tup[0] for tup in fid_prob_list]\n",
    "prob_list_88 = [tup[1] for tup in fid_prob_list]"
   ],
   "metadata": {
    "collapsed": false
   }
  },
  {
   "cell_type": "code",
   "execution_count": 3,
   "outputs": [
    {
     "data": {
      "text/plain": "<matplotlib.legend.Legend at 0x1fdf95ae5b0>"
     },
     "execution_count": 3,
     "metadata": {},
     "output_type": "execute_result"
    },
    {
     "data": {
      "text/plain": "<Figure size 1200x800 with 1 Axes>",
      "image/png": "[encoded data removed]"
     },
     "metadata": {
      "needs_background": "light"
     },
     "output_type": "display_data"
    }
   ],
   "source": [
    "plt.figure(dpi=200)\n",
    "\n",
    "plt.loglog(gamma_list,1-np.array(fid_list), 'b.-')\n",
    "plt.loglog(gamma_list,1-np.array(fid_list_168), 'r.--')\n",
    "# plt.loglog(gamma_list,1-np.array(fid_list_filtered), 'r.-')\n",
    "# plt.loglog(gamma_list,np.array(fail_prob_list), 'g.--')\n",
    "\n",
    "# plt.title(\"Infidelity with trivial protocol and with our protocol. d = 16, m_i = 4, m_c=4\")\n",
    "plt.xlabel(\"$\\gamma$ for decay and 1/10 dephasing\")\n",
    "plt.ylabel(\"1-Fidelity\")\n",
    "plt.legend([\"m_i=m_c=16\",\"m_i=16,m_c=8\"])"
   ],
   "metadata": {
    "collapsed": false
   }
  },
  {
   "cell_type": "code",
   "execution_count": 22,
   "outputs": [],
   "source": [
    "a = zip(list(gamma_list),list(gamma_list), [fidelity_cut] * len(gamma_list))"
   ],
   "metadata": {
    "collapsed": false
   }
  },
  {
   "cell_type": "code",
   "execution_count": 26,
   "outputs": [
    {
     "data": {
      "text/plain": "(0.03162277660168379, 0.03162277660168379, 0.999)"
     },
     "execution_count": 26,
     "metadata": {},
     "output_type": "execute_result"
    }
   ],
   "source": [
    "a.__next__()"
   ],
   "metadata": {
    "collapsed": false
   }
  },
  {
   "cell_type": "code",
   "execution_count": 15,
   "outputs": [
    {
     "ename": "KeyboardInterrupt",
     "evalue": "",
     "output_type": "error",
     "traceback": [
      "\u001B[1;31m---------------------------------------------------------------------------\u001B[0m",
      "\u001B[1;31mKeyboardInterrupt\u001B[0m                         Traceback (most recent call last)",
      "\u001B[1;32m<ipython-input-15-c6828a532d3b>\u001B[0m in \u001B[0;36m<module>\u001B[1;34m\u001B[0m\n\u001B[0;32m      5\u001B[0m \u001B[0mA_1\u001B[0m\u001B[1;33m,\u001B[0m \u001B[0mB_1\u001B[0m \u001B[1;33m=\u001B[0m \u001B[1;36m0\u001B[0m\u001B[1;33m,\u001B[0m \u001B[1;36m4\u001B[0m\u001B[1;33m\u001B[0m\u001B[1;33m\u001B[0m\u001B[0m\n\u001B[0;32m      6\u001B[0m \u001B[0mA_2\u001B[0m\u001B[1;33m,\u001B[0m \u001B[0mB_2\u001B[0m \u001B[1;33m=\u001B[0m \u001B[1;36m1\u001B[0m\u001B[1;33m,\u001B[0m \u001B[1;36m1\u001B[0m\u001B[1;33m\u001B[0m\u001B[1;33m\u001B[0m\u001B[0m\n\u001B[1;32m----> 7\u001B[1;33m \u001B[0mqudit4\u001B[0m\u001B[1;33m.\u001B[0m\u001B[0mfidelity_specific\u001B[0m\u001B[1;33m(\u001B[0m\u001B[0mgamma_loss_A\u001B[0m\u001B[1;33m=\u001B[0m\u001B[1;36m1e-2\u001B[0m\u001B[1;33m,\u001B[0m\u001B[0mgamma_dephasing_A\u001B[0m\u001B[1;33m=\u001B[0m\u001B[1;36m1e-2\u001B[0m\u001B[1;33m,\u001B[0m \u001B[0mA_1\u001B[0m\u001B[1;33m=\u001B[0m\u001B[0mA_1\u001B[0m\u001B[1;33m,\u001B[0m\u001B[0mB_1\u001B[0m\u001B[1;33m=\u001B[0m\u001B[0mB_1\u001B[0m\u001B[1;33m,\u001B[0m\u001B[0mA_2\u001B[0m\u001B[1;33m=\u001B[0m\u001B[0mA_2\u001B[0m\u001B[1;33m,\u001B[0m\u001B[0mB_2\u001B[0m\u001B[1;33m=\u001B[0m\u001B[0mB_2\u001B[0m\u001B[1;33m,\u001B[0m\u001B[0mm_i\u001B[0m\u001B[1;33m=\u001B[0m\u001B[0mm_i\u001B[0m\u001B[1;33m,\u001B[0m\u001B[0mm_c\u001B[0m\u001B[1;33m=\u001B[0m\u001B[0mm_c\u001B[0m\u001B[1;33m)\u001B[0m\u001B[1;33m\u001B[0m\u001B[1;33m\u001B[0m\u001B[0m\n\u001B[0m",
      "\u001B[1;32m~\\PycharmProjects\\bosonicDistillation\\qudit.py\u001B[0m in \u001B[0;36mfidelity_specific\u001B[1;34m(self, A_1, A_2, B_1, B_2, m_i, m_c, gamma_loss_A, gamma_dephasing_A, gamma_loss_B, gamma_dephasing_B, magic_state)\u001B[0m\n\u001B[0;32m    172\u001B[0m         \u001B[1;31m# print(f\"{s_A_B_list=}\")\u001B[0m\u001B[1;33m\u001B[0m\u001B[1;33m\u001B[0m\u001B[1;33m\u001B[0m\u001B[0m\n\u001B[0;32m    173\u001B[0m         \u001B[1;31m# print(f\"{good_s_A_B_list=}\")\u001B[0m\u001B[1;33m\u001B[0m\u001B[1;33m\u001B[0m\u001B[1;33m\u001B[0m\u001B[0m\n\u001B[1;32m--> 174\u001B[1;33m \u001B[1;33m\u001B[0m\u001B[0m\n\u001B[0m\u001B[0;32m    175\u001B[0m         \u001B[1;31m# all possible loss errors\u001B[0m\u001B[1;33m\u001B[0m\u001B[1;33m\u001B[0m\u001B[1;33m\u001B[0m\u001B[0m\n\u001B[0;32m    176\u001B[0m         \u001B[0ml_A_list\u001B[0m \u001B[1;33m=\u001B[0m \u001B[0mlist\u001B[0m\u001B[1;33m(\u001B[0m\u001B[0mrange\u001B[0m\u001B[1;33m(\u001B[0m\u001B[0mself\u001B[0m\u001B[1;33m.\u001B[0m\u001B[0md_A\u001B[0m\u001B[1;33m)\u001B[0m\u001B[1;33m)\u001B[0m\u001B[1;33m\u001B[0m\u001B[1;33m\u001B[0m\u001B[0m\n",
      "\u001B[1;32m~\\PycharmProjects\\bosonicDistillation\\qudit.py\u001B[0m in \u001B[0;36mfidelity_specific\u001B[1;34m(self, A_1, A_2, B_1, B_2, m_i, m_c, gamma_loss_A, gamma_dephasing_A, gamma_loss_B, gamma_dephasing_B, magic_state)\u001B[0m\n\u001B[0;32m    172\u001B[0m         \u001B[1;31m# print(f\"{s_A_B_list=}\")\u001B[0m\u001B[1;33m\u001B[0m\u001B[1;33m\u001B[0m\u001B[1;33m\u001B[0m\u001B[0m\n\u001B[0;32m    173\u001B[0m         \u001B[1;31m# print(f\"{good_s_A_B_list=}\")\u001B[0m\u001B[1;33m\u001B[0m\u001B[1;33m\u001B[0m\u001B[1;33m\u001B[0m\u001B[0m\n\u001B[1;32m--> 174\u001B[1;33m \u001B[1;33m\u001B[0m\u001B[0m\n\u001B[0m\u001B[0;32m    175\u001B[0m         \u001B[1;31m# all possible loss errors\u001B[0m\u001B[1;33m\u001B[0m\u001B[1;33m\u001B[0m\u001B[1;33m\u001B[0m\u001B[0m\n\u001B[0;32m    176\u001B[0m         \u001B[0ml_A_list\u001B[0m \u001B[1;33m=\u001B[0m \u001B[0mlist\u001B[0m\u001B[1;33m(\u001B[0m\u001B[0mrange\u001B[0m\u001B[1;33m(\u001B[0m\u001B[0mself\u001B[0m\u001B[1;33m.\u001B[0m\u001B[0md_A\u001B[0m\u001B[1;33m)\u001B[0m\u001B[1;33m)\u001B[0m\u001B[1;33m\u001B[0m\u001B[1;33m\u001B[0m\u001B[0m\n",
      "\u001B[1;32mpydevd_cython.pyx\u001B[0m in \u001B[0;36m_pydevd_bundle.pydevd_cython.SafeCallWrapper.__call__\u001B[1;34m()\u001B[0m\n",
      "\u001B[1;32mpydevd_cython.pyx\u001B[0m in \u001B[0;36m_pydevd_bundle.pydevd_cython.PyDBFrame.trace_dispatch\u001B[1;34m()\u001B[0m\n",
      "\u001B[1;32mpydevd_cython.pyx\u001B[0m in \u001B[0;36m_pydevd_bundle.pydevd_cython.PyDBFrame.trace_dispatch\u001B[1;34m()\u001B[0m\n",
      "\u001B[1;32mpydevd_cython.pyx\u001B[0m in \u001B[0;36m_pydevd_bundle.pydevd_cython.PyDBFrame.trace_dispatch\u001B[1;34m()\u001B[0m\n",
      "\u001B[1;32mpydevd_cython.pyx\u001B[0m in \u001B[0;36m_pydevd_bundle.pydevd_cython.PyDBFrame.do_wait_suspend\u001B[1;34m()\u001B[0m\n",
      "\u001B[1;32mC:\\Program Files\\JetBrains\\PyCharm 2022.3.1\\plugins\\python\\helpers\\pydev\\pydevd.py\u001B[0m in \u001B[0;36mdo_wait_suspend\u001B[1;34m(self, thread, frame, event, arg, send_suspend_message, is_unhandled_exception)\u001B[0m\n\u001B[0;32m   1158\u001B[0m \u001B[1;33m\u001B[0m\u001B[0m\n\u001B[0;32m   1159\u001B[0m         \u001B[1;32mwith\u001B[0m \u001B[0mself\u001B[0m\u001B[1;33m.\u001B[0m\u001B[0m_threads_suspended_single_notification\u001B[0m\u001B[1;33m.\u001B[0m\u001B[0mnotify_thread_suspended\u001B[0m\u001B[1;33m(\u001B[0m\u001B[0mthread_id\u001B[0m\u001B[1;33m,\u001B[0m \u001B[0mstop_reason\u001B[0m\u001B[1;33m)\u001B[0m\u001B[1;33m:\u001B[0m\u001B[1;33m\u001B[0m\u001B[1;33m\u001B[0m\u001B[0m\n\u001B[1;32m-> 1160\u001B[1;33m             \u001B[0mself\u001B[0m\u001B[1;33m.\u001B[0m\u001B[0m_do_wait_suspend\u001B[0m\u001B[1;33m(\u001B[0m\u001B[0mthread\u001B[0m\u001B[1;33m,\u001B[0m \u001B[0mframe\u001B[0m\u001B[1;33m,\u001B[0m \u001B[0mevent\u001B[0m\u001B[1;33m,\u001B[0m \u001B[0marg\u001B[0m\u001B[1;33m,\u001B[0m \u001B[0msuspend_type\u001B[0m\u001B[1;33m,\u001B[0m \u001B[0mfrom_this_thread\u001B[0m\u001B[1;33m)\u001B[0m\u001B[1;33m\u001B[0m\u001B[1;33m\u001B[0m\u001B[0m\n\u001B[0m\u001B[0;32m   1161\u001B[0m \u001B[1;33m\u001B[0m\u001B[0m\n\u001B[0;32m   1162\u001B[0m     \u001B[1;32mdef\u001B[0m \u001B[0m_do_wait_suspend\u001B[0m\u001B[1;33m(\u001B[0m\u001B[0mself\u001B[0m\u001B[1;33m,\u001B[0m \u001B[0mthread\u001B[0m\u001B[1;33m,\u001B[0m \u001B[0mframe\u001B[0m\u001B[1;33m,\u001B[0m \u001B[0mevent\u001B[0m\u001B[1;33m,\u001B[0m \u001B[0marg\u001B[0m\u001B[1;33m,\u001B[0m \u001B[0msuspend_type\u001B[0m\u001B[1;33m,\u001B[0m \u001B[0mfrom_this_thread\u001B[0m\u001B[1;33m)\u001B[0m\u001B[1;33m:\u001B[0m\u001B[1;33m\u001B[0m\u001B[1;33m\u001B[0m\u001B[0m\n",
      "\u001B[1;32mC:\\Program Files\\JetBrains\\PyCharm 2022.3.1\\plugins\\python\\helpers\\pydev\\pydevd.py\u001B[0m in \u001B[0;36m_do_wait_suspend\u001B[1;34m(self, thread, frame, event, arg, suspend_type, from_this_thread)\u001B[0m\n\u001B[0;32m   1173\u001B[0m \u001B[1;33m\u001B[0m\u001B[0m\n\u001B[0;32m   1174\u001B[0m                 \u001B[0mself\u001B[0m\u001B[1;33m.\u001B[0m\u001B[0mprocess_internal_commands\u001B[0m\u001B[1;33m(\u001B[0m\u001B[1;33m)\u001B[0m\u001B[1;33m\u001B[0m\u001B[1;33m\u001B[0m\u001B[0m\n\u001B[1;32m-> 1175\u001B[1;33m                 \u001B[0mtime\u001B[0m\u001B[1;33m.\u001B[0m\u001B[0msleep\u001B[0m\u001B[1;33m(\u001B[0m\u001B[1;36m0.01\u001B[0m\u001B[1;33m)\u001B[0m\u001B[1;33m\u001B[0m\u001B[1;33m\u001B[0m\u001B[0m\n\u001B[0m\u001B[0;32m   1176\u001B[0m \u001B[1;33m\u001B[0m\u001B[0m\n\u001B[0;32m   1177\u001B[0m         \u001B[0mself\u001B[0m\u001B[1;33m.\u001B[0m\u001B[0mcancel_async_evaluation\u001B[0m\u001B[1;33m(\u001B[0m\u001B[0mget_current_thread_id\u001B[0m\u001B[1;33m(\u001B[0m\u001B[0mthread\u001B[0m\u001B[1;33m)\u001B[0m\u001B[1;33m,\u001B[0m \u001B[0mstr\u001B[0m\u001B[1;33m(\u001B[0m\u001B[0mid\u001B[0m\u001B[1;33m(\u001B[0m\u001B[0mframe\u001B[0m\u001B[1;33m)\u001B[0m\u001B[1;33m)\u001B[0m\u001B[1;33m)\u001B[0m\u001B[1;33m\u001B[0m\u001B[1;33m\u001B[0m\u001B[0m\n",
      "\u001B[1;31mKeyboardInterrupt\u001B[0m: "
     ]
    }
   ],
   "source": [
    "d = 32\n",
    "qudit4 = EntangledQudit(d,d)\n",
    "m_i = 16\n",
    "m_c = 4\n",
    "A_1, B_1 = 0, 4\n",
    "A_2, B_2 = 1, 1\n",
    "qudit4.fidelity_specific(gamma_loss_A=1e-2,gamma_dephasing_A=1e-2, A_1=A_1,B_1=B_1,A_2=A_2,B_2=B_2,m_i=m_i,m_c=m_c)"
   ],
   "metadata": {
    "collapsed": false
   }
  },
  {
   "cell_type": "code",
   "execution_count": 5,
   "outputs": [
    {
     "data": {
      "text/plain": "6.656897255652439e-13"
     },
     "execution_count": 5,
     "metadata": {},
     "output_type": "execute_result"
    }
   ],
   "source": [
    "1-fid_list[0][0]"
   ],
   "metadata": {
    "collapsed": false
   }
  },
  {
   "cell_type": "code",
   "execution_count": 7,
   "outputs": [
    {
     "data": {
      "text/plain": "[0.9999999999993343, 0, 0, 0]"
     },
     "execution_count": 7,
     "metadata": {},
     "output_type": "execute_result"
    }
   ],
   "source": [
    "fid_list2"
   ],
   "metadata": {
    "collapsed": false
   }
  },
  {
   "cell_type": "code",
   "execution_count": null,
   "outputs": [],
   "source": [
    "\n",
    "\n",
    "# Create some sample data\n",
    "x = np.logspace(0, 2, 100)\n",
    "y = np.logspace(0, 2, 100)\n",
    "x, y = np.meshgrid(x, y)\n",
    "z = x ** 2 + y ** 2\n",
    "\n",
    "# Create a figure\n",
    "fig = plt.figure()\n",
    "ax = fig.add_subplot(111, projection='3d')\n",
    "\n",
    "# Plot the surface using log scale for all three axes\n",
    "ax.plot_surface(np.log10(x), np.log10(y), np.log10(z))\n",
    "\n",
    "# Set log scale for all axes\n",
    "ax.set_xscale('log')\n",
    "ax.set_yscale('log')\n",
    "ax.set_zscale('log')\n",
    "\n",
    "# Set axis labels\n",
    "ax.set_xlabel('Log X')\n",
    "ax.set_ylabel('Log Y')\n",
    "ax.set_zlabel('Log Z')\n",
    "\n",
    "# Show the plot\n",
    "plt.show()"
   ],
   "metadata": {
    "collapsed": false
   }
  }
 ],
 "metadata": {
  "kernelspec": {
   "display_name": "Python 3",
   "language": "python",
   "name": "python3"
  },
  "language_info": {
   "codemirror_mode": {
    "name": "ipython",
    "version": 2
   },
   "file_extension": ".py",
   "mimetype": "text/x-python",
   "name": "python",
   "nbconvert_exporter": "python",
   "pygments_lexer": "ipython2",
   "version": "2.7.6"
  }
 },
 "nbformat": 4,
 "nbformat_minor": 0
}
