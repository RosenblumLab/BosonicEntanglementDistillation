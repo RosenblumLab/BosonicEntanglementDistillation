{
 "cells": [
  {
   "cell_type": "code",
   "execution_count": 1,
   "id": "21124393-22fe-4486-8696-04c7fdd4d147",
   "metadata": {},
   "outputs": [
    {
     "name": "stdout",
     "output_type": "stream",
     "text": [
      "PATH=C:\\Program Files\\Python311\\Scripts\\;C:\\Program Files\\Python311\\;C:\\Program Files (x86)\\NVIDIA Corporation\\PhysX\\Common;C:\\Windows\\system32;C:\\Windows;C:\\Windows\\System32\\Wbem;C:\\Windows\\System32\\WindowsPowerShell\\v1.0\\;C:\\Windows\\System32\\OpenSSH\\;C:\\Program Files\\\\SUT\\bin;C:\\Program Files\\NVIDIA Corporation\\NVIDIA NGX;C:\\Program Files\\MATLAB\\R2021b\\runtime\\win64;C:\\Program Files\\MATLAB\\R2021b\\bin;C:\\Program Files\\Microsoft SQL Server\\Client SDK\\ODBC\\110\\Tools\\Binn\\;C:\\Program Files (x86)\\Microsoft SQL Server\\120\\Tools\\Binn\\;C:\\Program Files\\Microsoft SQL Server\\120\\Tools\\Binn\\;C:\\Program Files\\Microsoft SQL Server\\120\\DTS\\Binn\\;C:\\Program Files (x86)\\Windows Kits\\8.1\\Windows Performance Toolkit\\;C:\\Program Files\\ESET\\ESET Security\\;C:\\Users\\shohamj\\AppData\\Local\\Microsoft\\WindowsApps;C:\\Users\\shohamj\\AppData\\Local\\GitHubDesktop\\bin\n"
     ]
    }
   ],
   "source": [
    "!PATH"
   ]
  },
  {
   "cell_type": "code",
   "execution_count": 24,
   "id": "8a3457f5-9a87-479a-8367-03840c982b4c",
   "metadata": {},
   "outputs": [
    {
     "name": "stdout",
     "output_type": "stream",
     "text": [
      "%CUDA_PATH%\n"
     ]
    }
   ],
   "source": [
    "!echo %CUDA_PATH%"
   ]
  },
  {
   "cell_type": "code",
   "execution_count": null,
   "id": "5cc8d124-40c9-4ea4-8138-aad9ba9fc3ad",
   "metadata": {},
   "outputs": [],
   "source": []
  },
  {
   "cell_type": "code",
   "execution_count": 11,
   "id": "752ee9f7-375d-4ecd-8151-32b88a869a54",
   "metadata": {},
   "outputs": [],
   "source": [
    "!set CUDA_PATH=\"C:\\Program Files\\NVIDIA GPU Computing Toolkit\\CUDA\\v12.2\""
   ]
  },
  {
   "cell_type": "code",
   "execution_count": 22,
   "id": "540ab832-8f3b-48a4-a89a-0794512935fc",
   "metadata": {},
   "outputs": [
    {
     "name": "stdout",
     "output_type": "stream",
     "text": [
      "$env:CUDA_PATH\n"
     ]
    }
   ],
   "source": [
    "!echo $env:CUDA_PATH\n"
   ]
  },
  {
   "cell_type": "code",
   "execution_count": 19,
   "id": "aebc3954-c741-4280-810a-9933e065b745",
   "metadata": {},
   "outputs": [
    {
     "name": "stdout",
     "output_type": "stream",
     "text": [
      "\n",
      "SUCCESS: Specified value was saved.\n"
     ]
    }
   ],
   "source": [
    "!setx CUDA_PATH \"C:\\\\Program Files\\\\NVIDIA GPU Computing Toolkit\\\\CUDA\\\\v12.2\"\n"
   ]
  },
  {
   "cell_type": "code",
   "execution_count": null,
   "id": "85377dac-2636-4743-9b54-d0525430f554",
   "metadata": {},
   "outputs": [],
   "source": [
    "!CUD"
   ]
  }
 ],
 "metadata": {
  "kernelspec": {
   "display_name": "qutip5",
   "language": "python",
   "name": "qutip5"
  },
  "language_info": {
   "codemirror_mode": {
    "name": "ipython",
    "version": 3
   },
   "file_extension": ".py",
   "mimetype": "text/x-python",
   "name": "python",
   "nbconvert_exporter": "python",
   "pygments_lexer": "ipython3",
   "version": "3.11.4"
  }
 },
 "nbformat": 4,
 "nbformat_minor": 5
}
