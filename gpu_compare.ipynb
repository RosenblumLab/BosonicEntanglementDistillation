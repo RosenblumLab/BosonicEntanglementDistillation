{
 "cells": [
  {
   "cell_type": "code",
   "execution_count": 20,
   "id": "a773b2d0-a166-4380-850a-bc60c6ed4eab",
   "metadata": {},
   "outputs": [
    {
     "name": "stdout",
     "output_type": "stream",
     "text": [
      "SciPy Time: 7.861293 seconds\n",
      "CuPy Time: 0.585305 seconds\n"
     ]
    }
   ],
   "source": [
    "import numpy as np\n",
    "import scipy.sparse as sp\n",
    "import cupy as cp\n",
    "import cupyx.scipy.sparse as cxs\n",
    "import time\n",
    "\n",
    "# Matrix size and sparsity\n",
    "n = 128**2\n",
    "density = 0.01\n",
    "\n",
    "# Create random sparse matrix using SciPy\n",
    "A_sp = sp.random(n, n, density=density, format='csr')\n",
    "x_sp = sp.random(n, 1, density=0.5, format='csr')\n",
    "\n",
    "# Convert to CuPy sparse matrix\n",
    "A_cs = cxs.csr_matrix(A_sp)\n",
    "x_cs = cxs.csr_matrix(x_sp)\n",
    "\n",
    "# Time SciPy sparse matrix-vector multiplication\n",
    "start_time = time.time()\n",
    "for _ in range(16**2):\n",
    "    result_sp = A_sp @ x_sp\n",
    "end_time = time.time()\n",
    "print(f\"SciPy Time: {end_time - start_time:.6f} seconds\")\n",
    "\n",
    "# Time CuPy sparse matrix-vector multiplication\n",
    "start_time = time.time()\n",
    "for _ in range(16**2):\n",
    "    result_cs = A_cs @ x_cs\n",
    "cp.cuda.Stream.null.synchronize()  # Ensure all GPU tasks are completed\n",
    "end_time = time.time()\n",
    "print(f\"CuPy Time: {end_time - start_time:.6f} seconds\")"
   ]
  },
  {
   "cell_type": "code",
   "execution_count": 10,
   "id": "d5542e12-3589-4f00-8cf8-f49797663502",
   "metadata": {},
   "outputs": [
    {
     "data": {
      "text/plain": [
       "<10000x1 sparse matrix of type '<class 'numpy.float64'>'\n",
       "\twith 10000 stored elements in Compressed Sparse Row format>"
      ]
     },
     "execution_count": 10,
     "metadata": {},
     "output_type": "execute_result"
    }
   ],
   "source": [
    "result_sp"
   ]
  },
  {
   "cell_type": "code",
   "execution_count": 17,
   "id": "b69a761f-2bde-437e-ab03-2aeb3bbb0bc7",
   "metadata": {},
   "outputs": [
    {
     "name": "stdout",
     "output_type": "stream",
     "text": [
      "[10.96741841 12.36518594 12.30032119 ... 11.41940765  9.94517307\n",
      "  9.9263407 ]\n"
     ]
    }
   ],
   "source": [
    "print(result_cs.data)"
   ]
  },
  {
   "cell_type": "code",
   "execution_count": 22,
   "id": "dc617119-f4c1-4bd2-a177-cb01256ab603",
   "metadata": {},
   "outputs": [
    {
     "data": {
      "text/plain": [
       "<16384x16384 sparse matrix of type '<class 'numpy.float64'>'\n",
       "\twith 2684355 stored elements in Compressed Sparse Row format>"
      ]
     },
     "execution_count": 22,
     "metadata": {},
     "output_type": "execute_result"
    }
   ],
   "source": [
    "A_sp"
   ]
  },
  {
   "cell_type": "code",
   "execution_count": 2,
   "id": "b1460156-798b-46a5-83c9-a4e1b59160ff",
   "metadata": {},
   "outputs": [
    {
     "name": "stdout",
     "output_type": "stream",
     "text": [
      "SciPy Time: 8.127794 seconds\n",
      "CuPy Time: 0.583394 seconds\n",
      "QuTiP Time: 10.415305 seconds\n"
     ]
    }
   ],
   "source": [
    "import numpy as np\n",
    "import scipy.sparse as sp\n",
    "import cupy as cp\n",
    "import cupyx.scipy.sparse as cxs\n",
    "import qutip as qt\n",
    "import time\n",
    "\n",
    "# Matrix size and sparsity\n",
    "n = 128**2\n",
    "density = 0.01\n",
    "\n",
    "# Create random sparse matrix using SciPy\n",
    "A_sp = sp.random(n, n, density=density, format='csr')\n",
    "x_sp = sp.random(n, 1, density=0.5, format='csr')\n",
    "\n",
    "# Convert to CuPy sparse matrix\n",
    "A_cs = cxs.csr_matrix(A_sp)\n",
    "x_cs = cxs.csr_matrix(x_sp)\n",
    "\n",
    "# Convert to QuTiP Qobj\n",
    "A_qt = qt.Qobj(A_sp)\n",
    "x_qt = qt.Qobj(x_sp)\n",
    "\n",
    "# Time SciPy sparse matrix-vector multiplication\n",
    "start_time = time.time()\n",
    "for _ in range(16**2):\n",
    "    result_sp = A_sp @ x_sp\n",
    "end_time = time.time()\n",
    "print(f\"SciPy Time: {end_time - start_time:.6f} seconds\")\n",
    "\n",
    "# Time CuPy sparse matrix-vector multiplication\n",
    "start_time = time.time()\n",
    "for _ in range(16**2):\n",
    "    result_cs = A_cs @ x_cs\n",
    "cp.cuda.Stream.null.synchronize()  # Ensure all GPU tasks are completed\n",
    "end_time = time.time()\n",
    "print(f\"CuPy Time: {end_time - start_time:.6f} seconds\")\n",
    "\n",
    "# Time QuTiP matrix-vector multiplication\n",
    "start_time = time.time()\n",
    "for _ in range(16**2):\n",
    "    result_qt = A_qt * x_qt\n",
    "end_time = time.time()\n",
    "print(f\"QuTiP Time: {end_time - start_time:.6f} seconds\")"
   ]
  },
  {
   "cell_type": "code",
   "execution_count": 9,
   "id": "d042a57a-1bf4-431d-984a-7ad3713528ec",
   "metadata": {},
   "outputs": [
    {
     "ename": "MemoryError",
     "evalue": "Unable to allocate 4.00 GiB for an array with shape (16384, 16384) and data type complex128",
     "output_type": "error",
     "traceback": [
      "\u001b[1;31m---------------------------------------------------------------------------\u001b[0m",
      "\u001b[1;31mMemoryError\u001b[0m                               Traceback (most recent call last)",
      "Cell \u001b[1;32mIn[9], line 13\u001b[0m\n\u001b[0;32m      9\u001b[0m n \u001b[38;5;241m=\u001b[39m \u001b[38;5;241m128\u001b[39m\u001b[38;5;241m*\u001b[39m\u001b[38;5;241m*\u001b[39m\u001b[38;5;241m2\u001b[39m\n\u001b[0;32m     10\u001b[0m \u001b[38;5;66;03m# density = 0.01\u001b[39;00m\n\u001b[0;32m     11\u001b[0m \n\u001b[0;32m     12\u001b[0m \u001b[38;5;66;03m# create QuTiP Qobj\u001b[39;00m\n\u001b[1;32m---> 13\u001b[0m A_qt \u001b[38;5;241m=\u001b[39m \u001b[38;5;28msum\u001b[39m([qt\u001b[38;5;241m.\u001b[39mket2dm(qt\u001b[38;5;241m.\u001b[39mcoherent(n,i)) \u001b[38;5;28;01mfor\u001b[39;00m i \u001b[38;5;129;01min\u001b[39;00m \u001b[38;5;28mrange\u001b[39m(\u001b[38;5;241m100\u001b[39m)])\n\u001b[0;32m     14\u001b[0m x_qt \u001b[38;5;241m=\u001b[39m \u001b[38;5;28msum\u001b[39m([qt\u001b[38;5;241m.\u001b[39mbasis(n,i) \u001b[38;5;28;01mfor\u001b[39;00m i \u001b[38;5;129;01min\u001b[39;00m \u001b[38;5;28mrange\u001b[39m(\u001b[38;5;241m0\u001b[39m,n,\u001b[38;5;241m2\u001b[39m)])\n\u001b[0;32m     16\u001b[0m \u001b[38;5;66;03m# Create random sparse matrix using SciPy\u001b[39;00m\n",
      "Cell \u001b[1;32mIn[9], line 13\u001b[0m, in \u001b[0;36m<listcomp>\u001b[1;34m(.0)\u001b[0m\n\u001b[0;32m      9\u001b[0m n \u001b[38;5;241m=\u001b[39m \u001b[38;5;241m128\u001b[39m\u001b[38;5;241m*\u001b[39m\u001b[38;5;241m*\u001b[39m\u001b[38;5;241m2\u001b[39m\n\u001b[0;32m     10\u001b[0m \u001b[38;5;66;03m# density = 0.01\u001b[39;00m\n\u001b[0;32m     11\u001b[0m \n\u001b[0;32m     12\u001b[0m \u001b[38;5;66;03m# create QuTiP Qobj\u001b[39;00m\n\u001b[1;32m---> 13\u001b[0m A_qt \u001b[38;5;241m=\u001b[39m \u001b[38;5;28msum\u001b[39m([qt\u001b[38;5;241m.\u001b[39mket2dm(qt\u001b[38;5;241m.\u001b[39mcoherent(n,i)) \u001b[38;5;28;01mfor\u001b[39;00m i \u001b[38;5;129;01min\u001b[39;00m \u001b[38;5;28mrange\u001b[39m(\u001b[38;5;241m100\u001b[39m)])\n\u001b[0;32m     14\u001b[0m x_qt \u001b[38;5;241m=\u001b[39m \u001b[38;5;28msum\u001b[39m([qt\u001b[38;5;241m.\u001b[39mbasis(n,i) \u001b[38;5;28;01mfor\u001b[39;00m i \u001b[38;5;129;01min\u001b[39;00m \u001b[38;5;28mrange\u001b[39m(\u001b[38;5;241m0\u001b[39m,n,\u001b[38;5;241m2\u001b[39m)])\n\u001b[0;32m     16\u001b[0m \u001b[38;5;66;03m# Create random sparse matrix using SciPy\u001b[39;00m\n",
      "File \u001b[1;32m~\\AppData\\Local\\anaconda3\\envs\\qutip5\\Lib\\site-packages\\qutip\\core\\states.py:222\u001b[0m, in \u001b[0;36mcoherent\u001b[1;34m(N, alpha, offset, method, dtype)\u001b[0m\n\u001b[0;32m    217\u001b[0m     \u001b[38;5;28;01mif\u001b[39;00m offset \u001b[38;5;241m!=\u001b[39m \u001b[38;5;241m0\u001b[39m:\n\u001b[0;32m    218\u001b[0m         \u001b[38;5;28;01mraise\u001b[39;00m \u001b[38;5;167;01mValueError\u001b[39;00m(\n\u001b[0;32m    219\u001b[0m             \u001b[38;5;124m\"\u001b[39m\u001b[38;5;124mThe method \u001b[39m\u001b[38;5;124m'\u001b[39m\u001b[38;5;124moperator\u001b[39m\u001b[38;5;124m'\u001b[39m\u001b[38;5;124m does not support offset != 0. Please\u001b[39m\u001b[38;5;124m\"\u001b[39m\n\u001b[0;32m    220\u001b[0m             \u001b[38;5;124m\"\u001b[39m\u001b[38;5;124m select another method or set the offset to zero.\u001b[39m\u001b[38;5;124m\"\u001b[39m\n\u001b[0;32m    221\u001b[0m         )\n\u001b[1;32m--> 222\u001b[0m     \u001b[38;5;28;01mreturn\u001b[39;00m (displace(N, alpha, dtype\u001b[38;5;241m=\u001b[39mdtype) \u001b[38;5;241m*\u001b[39m basis(N, \u001b[38;5;241m0\u001b[39m))\u001b[38;5;241m.\u001b[39mto(dtype)\n\u001b[0;32m    224\u001b[0m \u001b[38;5;28;01melif\u001b[39;00m method \u001b[38;5;241m==\u001b[39m \u001b[38;5;124m\"\u001b[39m\u001b[38;5;124manalytic\u001b[39m\u001b[38;5;124m\"\u001b[39m:\n\u001b[0;32m    225\u001b[0m     sqrtn \u001b[38;5;241m=\u001b[39m np\u001b[38;5;241m.\u001b[39msqrt(np\u001b[38;5;241m.\u001b[39marange(offset, offset\u001b[38;5;241m+\u001b[39mN, dtype\u001b[38;5;241m=\u001b[39m\u001b[38;5;28mcomplex\u001b[39m))\n",
      "File \u001b[1;32m~\\AppData\\Local\\anaconda3\\envs\\qutip5\\Lib\\site-packages\\qutip\\core\\operators.py:775\u001b[0m, in \u001b[0;36mdisplace\u001b[1;34m(N, alpha, offset, dtype)\u001b[0m\n\u001b[0;32m    739\u001b[0m \u001b[38;5;124;03m\"\"\"Single-mode displacement operator.\u001b[39;00m\n\u001b[0;32m    740\u001b[0m \n\u001b[0;32m    741\u001b[0m \u001b[38;5;124;03mParameters\u001b[39;00m\n\u001b[1;32m   (...)\u001b[0m\n\u001b[0;32m    772\u001b[0m \n\u001b[0;32m    773\u001b[0m \u001b[38;5;124;03m\"\"\"\u001b[39;00m\n\u001b[0;32m    774\u001b[0m a \u001b[38;5;241m=\u001b[39m destroy(N, offset\u001b[38;5;241m=\u001b[39moffset)\n\u001b[1;32m--> 775\u001b[0m \u001b[38;5;28;01mreturn\u001b[39;00m (alpha \u001b[38;5;241m*\u001b[39m a\u001b[38;5;241m.\u001b[39mdag() \u001b[38;5;241m-\u001b[39m np\u001b[38;5;241m.\u001b[39mconj(alpha) \u001b[38;5;241m*\u001b[39m a)\u001b[38;5;241m.\u001b[39mexpm(dtype\u001b[38;5;241m=\u001b[39mdtype)\n",
      "File \u001b[1;32m~\\AppData\\Local\\anaconda3\\envs\\qutip5\\Lib\\site-packages\\qutip\\core\\qobj.py:867\u001b[0m, in \u001b[0;36mQobj.expm\u001b[1;34m(self, dtype)\u001b[0m\n\u001b[0;32m    865\u001b[0m \u001b[38;5;28;01mif\u001b[39;00m \u001b[38;5;28mself\u001b[39m\u001b[38;5;241m.\u001b[39mdims[\u001b[38;5;241m0\u001b[39m] \u001b[38;5;241m!=\u001b[39m \u001b[38;5;28mself\u001b[39m\u001b[38;5;241m.\u001b[39mdims[\u001b[38;5;241m1\u001b[39m]:\n\u001b[0;32m    866\u001b[0m     \u001b[38;5;28;01mraise\u001b[39;00m \u001b[38;5;167;01mTypeError\u001b[39;00m(\u001b[38;5;124m\"\u001b[39m\u001b[38;5;124mexpm is only valid for square operators\u001b[39m\u001b[38;5;124m\"\u001b[39m)\n\u001b[1;32m--> 867\u001b[0m \u001b[38;5;28;01mreturn\u001b[39;00m Qobj(_data\u001b[38;5;241m.\u001b[39mexpm(\u001b[38;5;28mself\u001b[39m\u001b[38;5;241m.\u001b[39m_data, dtype\u001b[38;5;241m=\u001b[39mdtype),\n\u001b[0;32m    868\u001b[0m             dims\u001b[38;5;241m=\u001b[39m\u001b[38;5;28mself\u001b[39m\u001b[38;5;241m.\u001b[39mdims,\n\u001b[0;32m    869\u001b[0m             \u001b[38;5;28mtype\u001b[39m\u001b[38;5;241m=\u001b[39m\u001b[38;5;28mself\u001b[39m\u001b[38;5;241m.\u001b[39mtype,\n\u001b[0;32m    870\u001b[0m             superrep\u001b[38;5;241m=\u001b[39m\u001b[38;5;28mself\u001b[39m\u001b[38;5;241m.\u001b[39msuperrep,\n\u001b[0;32m    871\u001b[0m             isherm\u001b[38;5;241m=\u001b[39m\u001b[38;5;28mself\u001b[39m\u001b[38;5;241m.\u001b[39m_isherm,\n\u001b[0;32m    872\u001b[0m             copy\u001b[38;5;241m=\u001b[39m\u001b[38;5;28;01mFalse\u001b[39;00m)\n",
      "File \u001b[1;32m~\\AppData\\Local\\anaconda3\\envs\\qutip5\\Lib\\site-packages\\qutip\\core\\data\\dispatch.pyx:583\u001b[0m, in \u001b[0;36mqutip.core.data.dispatch.Dispatcher.__call__\u001b[1;34m()\u001b[0m\n",
      "File \u001b[1;32m~\\AppData\\Local\\anaconda3\\envs\\qutip5\\Lib\\site-packages\\qutip\\core\\data\\dispatch.pyx:292\u001b[0m, in \u001b[0;36mqutip.core.data.dispatch._constructed_specialisation.prebound\u001b[1;34m()\u001b[0m\n",
      "File \u001b[1;32m~\\AppData\\Local\\anaconda3\\envs\\qutip5\\Lib\\site-packages\\qutip\\core\\data\\expm.py:43\u001b[0m, in \u001b[0;36mexpm_csr_dense\u001b[1;34m(matrix)\u001b[0m\n\u001b[0;32m     41\u001b[0m \u001b[38;5;28;01mif\u001b[39;00m matrix\u001b[38;5;241m.\u001b[39mshape[\u001b[38;5;241m0\u001b[39m] \u001b[38;5;241m!=\u001b[39m matrix\u001b[38;5;241m.\u001b[39mshape[\u001b[38;5;241m1\u001b[39m]:\n\u001b[0;32m     42\u001b[0m     \u001b[38;5;28;01mraise\u001b[39;00m \u001b[38;5;167;01mValueError\u001b[39;00m(\u001b[38;5;124m\"\u001b[39m\u001b[38;5;124mcan only exponentiate square matrix\u001b[39m\u001b[38;5;124m\"\u001b[39m)\n\u001b[1;32m---> 43\u001b[0m \u001b[38;5;28;01mreturn\u001b[39;00m Dense(scipy\u001b[38;5;241m.\u001b[39msparse\u001b[38;5;241m.\u001b[39mlinalg\u001b[38;5;241m.\u001b[39mexpm(matrix\u001b[38;5;241m.\u001b[39mto_array()))\n",
      "File \u001b[1;32m~\\AppData\\Local\\anaconda3\\envs\\qutip5\\Lib\\site-packages\\scipy\\sparse\\linalg\\_matfuncs.py:590\u001b[0m, in \u001b[0;36mexpm\u001b[1;34m(A)\u001b[0m\n\u001b[0;32m    545\u001b[0m \u001b[38;5;28;01mdef\u001b[39;00m \u001b[38;5;21mexpm\u001b[39m(A):\n\u001b[0;32m    546\u001b[0m     \u001b[38;5;124;03m\"\"\"\u001b[39;00m\n\u001b[0;32m    547\u001b[0m \u001b[38;5;124;03m    Compute the matrix exponential using Pade approximation.\u001b[39;00m\n\u001b[0;32m    548\u001b[0m \n\u001b[1;32m   (...)\u001b[0m\n\u001b[0;32m    588\u001b[0m \u001b[38;5;124;03m           [  0.        ,   0.        ,  20.08553692]])\u001b[39;00m\n\u001b[0;32m    589\u001b[0m \u001b[38;5;124;03m    \"\"\"\u001b[39;00m\n\u001b[1;32m--> 590\u001b[0m     \u001b[38;5;28;01mreturn\u001b[39;00m _expm(A, use_exact_onenorm\u001b[38;5;241m=\u001b[39m\u001b[38;5;124m'\u001b[39m\u001b[38;5;124mauto\u001b[39m\u001b[38;5;124m'\u001b[39m)\n",
      "File \u001b[1;32m~\\AppData\\Local\\anaconda3\\envs\\qutip5\\Lib\\site-packages\\scipy\\sparse\\linalg\\_matfuncs.py:671\u001b[0m, in \u001b[0;36m_expm\u001b[1;34m(A, use_exact_onenorm)\u001b[0m\n\u001b[0;32m    669\u001b[0m     s \u001b[38;5;241m=\u001b[39m \u001b[38;5;28mmax\u001b[39m(\u001b[38;5;28mint\u001b[39m(np\u001b[38;5;241m.\u001b[39mceil(np\u001b[38;5;241m.\u001b[39mlog2(eta_5 \u001b[38;5;241m/\u001b[39m theta_13))), \u001b[38;5;241m0\u001b[39m)\n\u001b[0;32m    670\u001b[0m s \u001b[38;5;241m=\u001b[39m s \u001b[38;5;241m+\u001b[39m _ell(\u001b[38;5;241m2\u001b[39m\u001b[38;5;241m*\u001b[39m\u001b[38;5;241m*\u001b[39m\u001b[38;5;241m-\u001b[39ms \u001b[38;5;241m*\u001b[39m h\u001b[38;5;241m.\u001b[39mA, \u001b[38;5;241m13\u001b[39m)\n\u001b[1;32m--> 671\u001b[0m U, V \u001b[38;5;241m=\u001b[39m h\u001b[38;5;241m.\u001b[39mpade13_scaled(s)\n\u001b[0;32m    672\u001b[0m X \u001b[38;5;241m=\u001b[39m _solve_P_Q(U, V, structure\u001b[38;5;241m=\u001b[39mstructure)\n\u001b[0;32m    673\u001b[0m \u001b[38;5;28;01mif\u001b[39;00m structure \u001b[38;5;241m==\u001b[39m UPPER_TRIANGULAR:\n\u001b[0;32m    674\u001b[0m     \u001b[38;5;66;03m# Invoke Code Fragment 2.1.\u001b[39;00m\n",
      "File \u001b[1;32m~\\AppData\\Local\\anaconda3\\envs\\qutip5\\Lib\\site-packages\\scipy\\sparse\\linalg\\_matfuncs.py:541\u001b[0m, in \u001b[0;36m_ExpmPadeHelper.pade13_scaled\u001b[1;34m(self, s)\u001b[0m\n\u001b[0;32m    534\u001b[0m U \u001b[38;5;241m=\u001b[39m _smart_matrix_product(B,\n\u001b[0;32m    535\u001b[0m         (U2 \u001b[38;5;241m+\u001b[39m b[\u001b[38;5;241m7\u001b[39m]\u001b[38;5;241m*\u001b[39mB6 \u001b[38;5;241m+\u001b[39m b[\u001b[38;5;241m5\u001b[39m]\u001b[38;5;241m*\u001b[39mB4 \u001b[38;5;241m+\u001b[39m\n\u001b[0;32m    536\u001b[0m             b[\u001b[38;5;241m3\u001b[39m]\u001b[38;5;241m*\u001b[39mB2 \u001b[38;5;241m+\u001b[39m b[\u001b[38;5;241m1\u001b[39m]\u001b[38;5;241m*\u001b[39m\u001b[38;5;28mself\u001b[39m\u001b[38;5;241m.\u001b[39mident),\n\u001b[0;32m    537\u001b[0m         structure\u001b[38;5;241m=\u001b[39m\u001b[38;5;28mself\u001b[39m\u001b[38;5;241m.\u001b[39mstructure)\n\u001b[0;32m    538\u001b[0m V2 \u001b[38;5;241m=\u001b[39m _smart_matrix_product(B6,\n\u001b[0;32m    539\u001b[0m         b[\u001b[38;5;241m12\u001b[39m]\u001b[38;5;241m*\u001b[39mB6 \u001b[38;5;241m+\u001b[39m b[\u001b[38;5;241m10\u001b[39m]\u001b[38;5;241m*\u001b[39mB4 \u001b[38;5;241m+\u001b[39m b[\u001b[38;5;241m8\u001b[39m]\u001b[38;5;241m*\u001b[39mB2,\n\u001b[0;32m    540\u001b[0m         structure\u001b[38;5;241m=\u001b[39m\u001b[38;5;28mself\u001b[39m\u001b[38;5;241m.\u001b[39mstructure)\n\u001b[1;32m--> 541\u001b[0m V \u001b[38;5;241m=\u001b[39m V2 \u001b[38;5;241m+\u001b[39m b[\u001b[38;5;241m6\u001b[39m]\u001b[38;5;241m*\u001b[39mB6 \u001b[38;5;241m+\u001b[39m b[\u001b[38;5;241m4\u001b[39m]\u001b[38;5;241m*\u001b[39mB4 \u001b[38;5;241m+\u001b[39m b[\u001b[38;5;241m2\u001b[39m]\u001b[38;5;241m*\u001b[39mB2 \u001b[38;5;241m+\u001b[39m b[\u001b[38;5;241m0\u001b[39m]\u001b[38;5;241m*\u001b[39m\u001b[38;5;28mself\u001b[39m\u001b[38;5;241m.\u001b[39mident\n\u001b[0;32m    542\u001b[0m \u001b[38;5;28;01mreturn\u001b[39;00m U, V\n",
      "\u001b[1;31mMemoryError\u001b[0m: Unable to allocate 4.00 GiB for an array with shape (16384, 16384) and data type complex128"
     ]
    }
   ],
   "source": [
    "import numpy as np\n",
    "import scipy.sparse as sp\n",
    "import cupy as cp\n",
    "import cupyx.scipy.sparse as cxs\n",
    "import qutip as qt\n",
    "import time\n",
    "\n",
    "# Matrix size and sparsity\n",
    "n = 128**2\n",
    "# density = 0.01\n",
    "\n",
    "# create QuTiP Qobj\n",
    "A_qt = sum([qt.ket2dm(qt.coherent(n,i)) for i in range(100)])\n",
    "x_qt = sum([qt.basis(n,i) for i in range(0,n,2)])\n",
    "\n",
    "# Create random sparse matrix using SciPy\n",
    "A_sp = sp.csr_matrix(A_qt.full())\n",
    "x_sp = sp.csr_matrix(x_qt.full())\n",
    "\n",
    "# Convert to CuPy sparse matrix\n",
    "A_cs = cxs.csr_matrix(A_sp)\n",
    "x_cs = cxs.csr_matrix(x_sp)\n",
    "\n",
    "# Time SciPy sparse matrix-vector multiplication\n",
    "start_time = time.time()\n",
    "for _ in range(16**2):\n",
    "    result_sp = A_sp @ x_sp\n",
    "end_time = time.time()\n",
    "print(f\"SciPy Time: {end_time - start_time:.6f} seconds\")\n",
    "\n",
    "# Time CuPy sparse matrix-vector multiplication\n",
    "start_time = time.time()\n",
    "for _ in range(16**2):\n",
    "    result_cs = A_cs @ x_cs\n",
    "cp.cuda.Stream.null.synchronize()  # Ensure all GPU tasks are completed\n",
    "end_time = time.time()\n",
    "print(f\"CuPy Time: {end_time - start_time:.6f} seconds\")\n",
    "\n",
    "# Time QuTiP matrix-vector multiplication\n",
    "start_time = time.time()\n",
    "for _ in range(16**2):\n",
    "    result_qt = A_qt * x_qt\n",
    "end_time = time.time()\n",
    "print(f\"QuTiP Time: {end_time - start_time:.6f} seconds\")"
   ]
  },
  {
   "cell_type": "code",
   "execution_count": 6,
   "id": "a493781d-e633-474e-addf-7bb9b31f16b9",
   "metadata": {},
   "outputs": [
    {
     "data": {
      "text/plain": [
       "<16384x16384 sparse matrix of type '<class 'numpy.complex128'>'\n",
       "\twith 32766 stored elements in Compressed Sparse Row format>"
      ]
     },
     "execution_count": 6,
     "metadata": {},
     "output_type": "execute_result"
    }
   ],
   "source": [
    "A_sp"
   ]
  },
  {
   "cell_type": "code",
   "execution_count": null,
   "id": "54ba02ca-2d13-4b2b-8ba1-e7a1b82cb2ae",
   "metadata": {},
   "outputs": [],
   "source": []
  }
 ],
 "metadata": {
  "kernelspec": {
   "display_name": "qutip5",
   "language": "python",
   "name": "qutip5"
  },
  "language_info": {
   "codemirror_mode": {
    "name": "ipython",
    "version": 3
   },
   "file_extension": ".py",
   "mimetype": "text/x-python",
   "name": "python",
   "nbconvert_exporter": "python",
   "pygments_lexer": "ipython3",
   "version": "3.11.4"
  }
 },
 "nbformat": 4,
 "nbformat_minor": 5
}
