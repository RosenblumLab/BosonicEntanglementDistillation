{
 "cells": [
  {
   "cell_type": "code",
   "execution_count": 1,
   "id": "4b98aea5-0bb4-4d99-ae3c-9e08b3294544",
   "metadata": {},
   "outputs": [],
   "source": [
    "import itertools\n",
    "\n",
    "import numpy as np\n",
    "from qutip import *\n",
    "# some_file.py\n",
    "# import sys\n",
    "from qudit import *\n",
    "# import scipy\n",
    "import time\n",
    "import IPython.display as disp\n",
    "from tqdm.notebook import tqdm\n",
    "import multiprocess as mp\n",
    "import matplotlib.pyplot as plt\n",
    "from continuous import *\n",
    "\n",
    "\n",
    "# sys.path.insert(1, 'C:\\\\Users\\\\shoha\\\\Documents\\\\GitHub\\\\grimsmo-paper-simulations')\n",
    "\n",
    "# from measurements import *\n",
    "\n",
    "%load_ext autoreload\n",
    "%autoreload 2"
   ]
  },
  {
   "cell_type": "code",
   "execution_count": 65,
   "id": "7f3c04e9-58fc-4e72-9ada-fd9c0155c056",
   "metadata": {},
   "outputs": [],
   "source": [
    "N=128\n",
    "alpha = 8\n",
    "four_cat0 = sum([( (1j) ** i) * coherent(N, alpha*np.e ** (1j*i*np.pi/2)) for i in range(4)]).unit()\n",
    "four_cat1 = sum([( (-1j) ** i) * coherent(N, alpha*np.e ** (1j*i*np.pi/2)) for i in range(4)]).unit()\n",
    "ent_four_cat = ket2dm(tensor(four_cat0,four_cat0) + tensor(four_cat1,four_cat1)).unit()"
   ]
  },
  {
   "cell_type": "code",
   "execution_count": 64,
   "id": "ff8efc12-f640-4845-9f72-045043cfe44a",
   "metadata": {
    "collapsed": true,
    "jupyter": {
     "outputs_hidden": true
    },
    "tags": []
   },
   "outputs": [
    {
     "data": {
      "text/plain": [
       "(<Figure size 576x432 with 1 Axes>,\n",
       " <AxesSubplot:xlabel='Fock number', ylabel='Occupation probability'>)"
      ]
     },
     "execution_count": 64,
     "metadata": {},
     "output_type": "execute_result"
    },
    {
     "data": {
      "image/png": "[encoded data removed]",
      "text/plain": [
       "<Figure size 576x432 with 1 Axes>"
      ]
     },
     "metadata": {
      "needs_background": "light"
     },
     "output_type": "display_data"
    }
   ],
   "source": [
    "plot_fock_distribution(four_cat1)"
   ]
  },
  {
   "cell_type": "code",
   "execution_count": 67,
   "id": "11d5742b-33fb-479d-b0ba-e9a1c472fe0a",
   "metadata": {},
   "outputs": [
    {
     "data": {
      "text/plain": [
       "0.9980370648665107"
      ]
     },
     "execution_count": 67,
     "metadata": {},
     "output_type": "execute_result"
    }
   ],
   "source": [
    "p_state = ket2dm(basis(2,0)-basis(2,1)).unit()\n",
    "fidelity(p_state,q.ptrace([5]))"
   ]
  },
  {
   "cell_type": "code",
   "execution_count": 66,
   "id": "ce0d08dd-0d8e-4e37-bfdd-3f29718d9d74",
   "metadata": {},
   "outputs": [
    {
     "data": {
      "text/plain": [
       "array([[ 0.49999993+0.j, -0.49607805+0.j],\n",
       "       [-0.49607805+0.j,  0.49999993+0.j]])"
      ]
     },
     "execution_count": 66,
     "metadata": {},
     "output_type": "execute_result"
    }
   ],
   "source": [
    "q = ket2dm(four_cat0 + four_cat1).unit()\n",
    "q.dims = [[2,2,2,2,2,2,2],[2,2,2,2,2,2,2]]\n",
    "q.ptrace([5]).full()"
   ]
  },
  {
   "cell_type": "code",
   "execution_count": 57,
   "id": "cdc68908-b224-4ec2-9780-e1b087b31135",
   "metadata": {},
   "outputs": [
    {
     "data": {
      "text/plain": [
       "(0.9999998439567962+0j)"
      ]
     },
     "execution_count": 57,
     "metadata": {},
     "output_type": "execute_result"
    }
   ],
   "source": [
    "np.trace(q**2)"
   ]
  },
  {
   "cell_type": "code",
   "execution_count": 32,
   "id": "212dac1e-b405-48a5-9a79-cbde19fa6d80",
   "metadata": {},
   "outputs": [
    {
     "data": {
      "text/plain": [
       "array([[0.+0.j, 0.+0.j],\n",
       "       [0.+0.j, 1.+0.j]])"
      ]
     },
     "execution_count": 32,
     "metadata": {},
     "output_type": "execute_result"
    }
   ],
   "source": [
    "four_cat1.dims = [[2,2,2,2,2],[2,2,2,2,2]]\n",
    "four_cat1.ptrace([3]).full()"
   ]
  },
  {
   "cell_type": "code",
   "execution_count": 31,
   "id": "d848c1fa-06ca-49c6-b61e-2796dc25ba6d",
   "metadata": {},
   "outputs": [
    {
     "data": {
      "text/plain": [
       "array([[1.+0.j, 0.+0.j],\n",
       "       [0.+0.j, 0.+0.j]])"
      ]
     },
     "execution_count": 31,
     "metadata": {},
     "output_type": "execute_result"
    }
   ],
   "source": [
    "four_cat0.dims = [[2,2,2,2,2],[2,2,2,2,2]]\n",
    "four_cat0.ptrace([4]).full()"
   ]
  },
  {
   "cell_type": "code",
   "execution_count": null,
   "id": "9f221d96-9d91-48a1-a1a0-e9ae203383a2",
   "metadata": {},
   "outputs": [
    {
     "data": {
      "text/latex": [
       "Quantum object: dims = [[2, 2], [1, 1]], shape = (4, 1), type = ket\\begin{equation*}\\left(\\begin{array}{*{11}c}0.707\\\\0.0\\\\0.0\\\\0.707\\\\\\end{array}\\right)\\end{equation*}"
      ],
      "text/plain": [
       "Quantum object: dims = [[2, 2], [1, 1]], shape = (4, 1), type = ket\n",
       "Qobj data =\n",
       "[[0.70710678]\n",
       " [0.        ]\n",
       " [0.        ]\n",
       " [0.70710678]]"
      ]
     },
     "execution_count": 58,
     "metadata": {},
     "output_type": "execute_result"
    }
   ],
   "source": [
    "phi_p = (tensor(basis(2,0),basis(2,0)) + tensor(basis(2,1),basis(2,1))).unit()\n"
   ]
  }
 ],
 "metadata": {
  "kernelspec": {
   "display_name": "Python 3 (ipykernel)",
   "language": "python",
   "name": "python3"
  },
  "language_info": {
   "codemirror_mode": {
    "name": "ipython",
    "version": 3
   },
   "file_extension": ".py",
   "mimetype": "text/x-python",
   "name": "python",
   "nbconvert_exporter": "python",
   "pygments_lexer": "ipython3",
   "version": "3.8.5"
  }
 },
 "nbformat": 4,
 "nbformat_minor": 5
}
